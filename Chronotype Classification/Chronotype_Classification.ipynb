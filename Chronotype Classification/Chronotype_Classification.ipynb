{
  "nbformat": 4,
  "nbformat_minor": 0,
  "metadata": {
    "colab": {
      "provenance": []
    },
    "kernelspec": {
      "name": "python3",
      "display_name": "Python 3"
    },
    "language_info": {
      "name": "python"
    }
  },
  "cells": [
    {
      "cell_type": "code",
      "execution_count": 4,
      "metadata": {
        "id": "wT6bE5DDk3na"
      },
      "outputs": [],
      "source": [
        "import pandas as pd\n",
        "import tensorflow as tf\n",
        "from sklearn.model_selection import train_test_split\n",
        "from sklearn.preprocessing import StandardScaler, LabelEncoder"
      ]
    },
    {
      "cell_type": "code",
      "source": [
        "# **1. Load Dataset**\n",
        "data = pd.read_csv('Sleep_Efficiency.csv')"
      ],
      "metadata": {
        "id": "ZzVN2cuImye_"
      },
      "execution_count": 5,
      "outputs": []
    },
    {
      "cell_type": "code",
      "source": [
        "# **2. Periksa Data Input**\n",
        "print(\"Ringkasan Data:\")\n",
        "print(data.info())  # Struktur dataset\n",
        "print(\"\\nStatistik Deskriptif:\")\n",
        "print(data.describe())  # Statistik deskriptif"
      ],
      "metadata": {
        "colab": {
          "base_uri": "https://localhost:8080/"
        },
        "id": "dXS22FfEm2TP",
        "outputId": "7be461c1-523e-4ec2-9321-9eaf65dd9ae0"
      },
      "execution_count": 6,
      "outputs": [
        {
          "output_type": "stream",
          "name": "stdout",
          "text": [
            "Ringkasan Data:\n",
            "<class 'pandas.core.frame.DataFrame'>\n",
            "RangeIndex: 452 entries, 0 to 451\n",
            "Data columns (total 15 columns):\n",
            " #   Column                  Non-Null Count  Dtype  \n",
            "---  ------                  --------------  -----  \n",
            " 0   ID                      452 non-null    int64  \n",
            " 1   Age                     452 non-null    int64  \n",
            " 2   Gender                  452 non-null    object \n",
            " 3   Bedtime                 452 non-null    object \n",
            " 4   Wakeup time             452 non-null    object \n",
            " 5   Sleep duration          452 non-null    float64\n",
            " 6   Sleep efficiency        452 non-null    float64\n",
            " 7   REM sleep percentage    452 non-null    int64  \n",
            " 8   Deep sleep percentage   452 non-null    int64  \n",
            " 9   Light sleep percentage  452 non-null    int64  \n",
            " 10  Awakenings              432 non-null    float64\n",
            " 11  Caffeine consumption    427 non-null    float64\n",
            " 12  Alcohol consumption     438 non-null    float64\n",
            " 13  Smoking status          452 non-null    object \n",
            " 14  Exercise frequency      446 non-null    float64\n",
            "dtypes: float64(6), int64(5), object(4)\n",
            "memory usage: 53.1+ KB\n",
            "None\n",
            "\n",
            "Statistik Deskriptif:\n",
            "               ID         Age  Sleep duration  Sleep efficiency  \\\n",
            "count  452.000000  452.000000      452.000000        452.000000   \n",
            "mean   226.500000   40.285398        7.465708          0.788916   \n",
            "std    130.625419   13.172250        0.866625          0.135237   \n",
            "min      1.000000    9.000000        5.000000          0.500000   \n",
            "25%    113.750000   29.000000        7.000000          0.697500   \n",
            "50%    226.500000   40.000000        7.500000          0.820000   \n",
            "75%    339.250000   52.000000        8.000000          0.900000   \n",
            "max    452.000000   69.000000       10.000000          0.990000   \n",
            "\n",
            "       REM sleep percentage  Deep sleep percentage  Light sleep percentage  \\\n",
            "count            452.000000             452.000000              452.000000   \n",
            "mean              22.615044              52.823009               24.561947   \n",
            "std                3.525963              15.654235               15.313665   \n",
            "min               15.000000              18.000000                7.000000   \n",
            "25%               20.000000              48.250000               15.000000   \n",
            "50%               22.000000              58.000000               18.000000   \n",
            "75%               25.000000              63.000000               32.500000   \n",
            "max               30.000000              75.000000               63.000000   \n",
            "\n",
            "       Awakenings  Caffeine consumption  Alcohol consumption  \\\n",
            "count  432.000000            427.000000           438.000000   \n",
            "mean     1.641204             23.653396             1.173516   \n",
            "std      1.356762             30.202785             1.621377   \n",
            "min      0.000000              0.000000             0.000000   \n",
            "25%      1.000000              0.000000             0.000000   \n",
            "50%      1.000000             25.000000             0.000000   \n",
            "75%      3.000000             50.000000             2.000000   \n",
            "max      4.000000            200.000000             5.000000   \n",
            "\n",
            "       Exercise frequency  \n",
            "count          446.000000  \n",
            "mean             1.791480  \n",
            "std              1.428134  \n",
            "min              0.000000  \n",
            "25%              0.000000  \n",
            "50%              2.000000  \n",
            "75%              3.000000  \n",
            "max              5.000000  \n"
          ]
        }
      ]
    },
    {
      "cell_type": "code",
      "source": [
        "# Periksa apakah ada nilai kosong (NaN)\n",
        "print(\"\\nJumlah Nilai Kosong per Kolom:\")\n",
        "print(data.isnull().sum())"
      ],
      "metadata": {
        "colab": {
          "base_uri": "https://localhost:8080/"
        },
        "id": "ySGcZ7Mum62O",
        "outputId": "ecb034fe-e127-4b05-e523-58dcdbcb5715"
      },
      "execution_count": 7,
      "outputs": [
        {
          "output_type": "stream",
          "name": "stdout",
          "text": [
            "\n",
            "Jumlah Nilai Kosong per Kolom:\n",
            "ID                         0\n",
            "Age                        0\n",
            "Gender                     0\n",
            "Bedtime                    0\n",
            "Wakeup time                0\n",
            "Sleep duration             0\n",
            "Sleep efficiency           0\n",
            "REM sleep percentage       0\n",
            "Deep sleep percentage      0\n",
            "Light sleep percentage     0\n",
            "Awakenings                20\n",
            "Caffeine consumption      25\n",
            "Alcohol consumption       14\n",
            "Smoking status             0\n",
            "Exercise frequency         6\n",
            "dtype: int64\n"
          ]
        }
      ]
    },
    {
      "cell_type": "code",
      "source": [
        "# Isi nilai kosong dengan nilai default (opsional, tergantung konteks data)\n",
        "data.fillna(0, inplace=True)\n",
        "# Periksa apakah ada nilai kosong (NaN)\n",
        "print(\"\\nJumlah Nilai Kosong per Kolom:\")\n",
        "print(data.isnull().sum())"
      ],
      "metadata": {
        "colab": {
          "base_uri": "https://localhost:8080/"
        },
        "id": "Qe67XQZUm-_5",
        "outputId": "4c0c12a7-74ea-40c3-b3f0-b89cd70825b8"
      },
      "execution_count": 8,
      "outputs": [
        {
          "output_type": "stream",
          "name": "stdout",
          "text": [
            "\n",
            "Jumlah Nilai Kosong per Kolom:\n",
            "ID                        0\n",
            "Age                       0\n",
            "Gender                    0\n",
            "Bedtime                   0\n",
            "Wakeup time               0\n",
            "Sleep duration            0\n",
            "Sleep efficiency          0\n",
            "REM sleep percentage      0\n",
            "Deep sleep percentage     0\n",
            "Light sleep percentage    0\n",
            "Awakenings                0\n",
            "Caffeine consumption      0\n",
            "Alcohol consumption       0\n",
            "Smoking status            0\n",
            "Exercise frequency        0\n",
            "dtype: int64\n"
          ]
        }
      ]
    },
    {
      "cell_type": "code",
      "source": [
        "#Outlier\n",
        "median = data['Sleep duration'].median()\n",
        "data['Sleep duration'] = data['Sleep duration'].apply(lambda x: median if x < 5.5 or x > 9.5 else x)\n"
      ],
      "metadata": {
        "id": "B5jk-fUXnFb6"
      },
      "execution_count": 9,
      "outputs": []
    },
    {
      "cell_type": "code",
      "source": [
        "# Convert Bedtime and Wakeup time to datetime\n",
        "data['Bedtime'] = pd.to_datetime(data['Bedtime'])\n",
        "data['Wakeup time'] = pd.to_datetime(data['Wakeup time'])\n",
        "\n",
        "# Extract relevant features\n",
        "data['Bedtime_Hour'] = data['Bedtime'].dt.hour\n",
        "data['Wakeup_Hour'] = data['Wakeup time'].dt.hour\n",
        "\n",
        "# Define chronotype based on bedtime and wakeup time\n",
        "def determine_chronotype(row):\n",
        "    if row['Bedtime_Hour'] <= 22 and row['Wakeup_Hour'] <= 6:\n",
        "        return 'Lion'\n",
        "    elif 22 <= row['Bedtime_Hour'] <= 23 and 6 <= row['Wakeup_Hour'] <= 8:\n",
        "        return 'Bear'\n",
        "    elif row['Bedtime_Hour'] > 23 and row['Wakeup_Hour'] > 8:\n",
        "        return 'Wolf'\n",
        "    else:\n",
        "        return 'Dolphin'\n",
        "\n",
        "data['Chronotype'] = data.apply(determine_chronotype, axis=1)\n",
        "\n",
        "# Prepare features (X) and labels (y)\n",
        "X = data[['Bedtime_Hour', 'Wakeup_Hour']]\n",
        "y = data['Chronotype']\n",
        "\n",
        "# Encode Chronotype labels\n",
        "label_encoder = LabelEncoder()\n",
        "y_encoded = label_encoder.fit_transform(y)\n",
        "\n",
        "# Split data into training and testing sets\n",
        "X_train, X_test, y_train, y_test = train_test_split(X, y_encoded, test_size=0.2, random_state=42)\n",
        "\n",
        "# Normalize features\n",
        "scaler = StandardScaler()\n",
        "X_train_scaled = scaler.fit_transform(X_train)\n",
        "X_test_scaled = scaler.transform(X_test)\n"
      ],
      "metadata": {
        "id": "m_30IHwpk7hA"
      },
      "execution_count": 10,
      "outputs": []
    },
    {
      "cell_type": "code",
      "source": [
        "# Build TensorFlow model\n",
        "model = tf.keras.Sequential([\n",
        "    tf.keras.layers.InputLayer(shape=(X_train_scaled.shape[1],)),  # Use `shape` instead of `input_shape`\n",
        "    tf.keras.layers.Dense(16, activation='relu'),\n",
        "    tf.keras.layers.Dense(8, activation='relu'),\n",
        "    tf.keras.layers.Dense(4, activation='softmax')  # 4 output classes\n",
        "])\n",
        "\n",
        "# Compile the model\n",
        "model.compile(optimizer='adam',\n",
        "              loss='sparse_categorical_crossentropy',\n",
        "              metrics=['accuracy'])\n"
      ],
      "metadata": {
        "id": "cLJ-Wwj7lnTu"
      },
      "execution_count": 11,
      "outputs": []
    },
    {
      "cell_type": "code",
      "source": [
        "# Train the model\n",
        "history = model.fit(X_train_scaled, y_train, epochs=50, batch_size=8, validation_split=0.2)\n"
      ],
      "metadata": {
        "colab": {
          "base_uri": "https://localhost:8080/"
        },
        "id": "E9vcjpOfltvw",
        "outputId": "67d15894-8b78-4fd3-bad1-e16e1e7e8917"
      },
      "execution_count": 12,
      "outputs": [
        {
          "output_type": "stream",
          "name": "stdout",
          "text": [
            "Epoch 1/50\n",
            "\u001b[1m36/36\u001b[0m \u001b[32m━━━━━━━━━━━━━━━━━━━━\u001b[0m\u001b[37m\u001b[0m \u001b[1m2s\u001b[0m 18ms/step - accuracy: 0.0610 - loss: 1.3753 - val_accuracy: 0.6438 - val_loss: 1.2401\n",
            "Epoch 2/50\n",
            "\u001b[1m36/36\u001b[0m \u001b[32m━━━━━━━━━━━━━━━━━━━━\u001b[0m\u001b[37m\u001b[0m \u001b[1m1s\u001b[0m 6ms/step - accuracy: 0.7906 - loss: 1.2139 - val_accuracy: 0.9315 - val_loss: 1.0861\n",
            "Epoch 3/50\n",
            "\u001b[1m36/36\u001b[0m \u001b[32m━━━━━━━━━━━━━━━━━━━━\u001b[0m\u001b[37m\u001b[0m \u001b[1m0s\u001b[0m 6ms/step - accuracy: 0.8917 - loss: 1.0777 - val_accuracy: 0.8904 - val_loss: 0.9265\n",
            "Epoch 4/50\n",
            "\u001b[1m36/36\u001b[0m \u001b[32m━━━━━━━━━━━━━━━━━━━━\u001b[0m\u001b[37m\u001b[0m \u001b[1m0s\u001b[0m 6ms/step - accuracy: 0.8851 - loss: 0.9183 - val_accuracy: 0.8904 - val_loss: 0.7204\n",
            "Epoch 5/50\n",
            "\u001b[1m36/36\u001b[0m \u001b[32m━━━━━━━━━━━━━━━━━━━━\u001b[0m\u001b[37m\u001b[0m \u001b[1m0s\u001b[0m 8ms/step - accuracy: 0.8403 - loss: 0.7408 - val_accuracy: 0.8904 - val_loss: 0.5217\n",
            "Epoch 6/50\n",
            "\u001b[1m36/36\u001b[0m \u001b[32m━━━━━━━━━━━━━━━━━━━━\u001b[0m\u001b[37m\u001b[0m \u001b[1m0s\u001b[0m 6ms/step - accuracy: 0.8732 - loss: 0.5559 - val_accuracy: 0.9315 - val_loss: 0.3863\n",
            "Epoch 7/50\n",
            "\u001b[1m36/36\u001b[0m \u001b[32m━━━━━━━━━━━━━━━━━━━━\u001b[0m\u001b[37m\u001b[0m \u001b[1m0s\u001b[0m 6ms/step - accuracy: 0.8646 - loss: 0.4704 - val_accuracy: 0.9315 - val_loss: 0.3116\n",
            "Epoch 8/50\n",
            "\u001b[1m36/36\u001b[0m \u001b[32m━━━━━━━━━━━━━━━━━━━━\u001b[0m\u001b[37m\u001b[0m \u001b[1m0s\u001b[0m 7ms/step - accuracy: 0.8653 - loss: 0.4408 - val_accuracy: 0.9315 - val_loss: 0.2693\n",
            "Epoch 9/50\n",
            "\u001b[1m36/36\u001b[0m \u001b[32m━━━━━━━━━━━━━━━━━━━━\u001b[0m\u001b[37m\u001b[0m \u001b[1m1s\u001b[0m 6ms/step - accuracy: 0.9103 - loss: 0.3243 - val_accuracy: 0.9315 - val_loss: 0.2410\n",
            "Epoch 10/50\n",
            "\u001b[1m36/36\u001b[0m \u001b[32m━━━━━━━━━━━━━━━━━━━━\u001b[0m\u001b[37m\u001b[0m \u001b[1m0s\u001b[0m 4ms/step - accuracy: 0.8831 - loss: 0.3498 - val_accuracy: 0.9315 - val_loss: 0.2222\n",
            "Epoch 11/50\n",
            "\u001b[1m36/36\u001b[0m \u001b[32m━━━━━━━━━━━━━━━━━━━━\u001b[0m\u001b[37m\u001b[0m \u001b[1m0s\u001b[0m 3ms/step - accuracy: 0.8696 - loss: 0.3220 - val_accuracy: 0.9315 - val_loss: 0.2061\n",
            "Epoch 12/50\n",
            "\u001b[1m36/36\u001b[0m \u001b[32m━━━━━━━━━━━━━━━━━━━━\u001b[0m\u001b[37m\u001b[0m \u001b[1m0s\u001b[0m 3ms/step - accuracy: 0.8746 - loss: 0.3269 - val_accuracy: 0.9315 - val_loss: 0.1913\n",
            "Epoch 13/50\n",
            "\u001b[1m36/36\u001b[0m \u001b[32m━━━━━━━━━━━━━━━━━━━━\u001b[0m\u001b[37m\u001b[0m \u001b[1m0s\u001b[0m 3ms/step - accuracy: 0.8723 - loss: 0.3504 - val_accuracy: 0.9315 - val_loss: 0.1848\n",
            "Epoch 14/50\n",
            "\u001b[1m36/36\u001b[0m \u001b[32m━━━━━━━━━━━━━━━━━━━━\u001b[0m\u001b[37m\u001b[0m \u001b[1m0s\u001b[0m 3ms/step - accuracy: 0.8980 - loss: 0.2647 - val_accuracy: 1.0000 - val_loss: 0.1794\n",
            "Epoch 15/50\n",
            "\u001b[1m36/36\u001b[0m \u001b[32m━━━━━━━━━━━━━━━━━━━━\u001b[0m\u001b[37m\u001b[0m \u001b[1m0s\u001b[0m 3ms/step - accuracy: 0.9417 - loss: 0.1877 - val_accuracy: 1.0000 - val_loss: 0.1721\n",
            "Epoch 16/50\n",
            "\u001b[1m36/36\u001b[0m \u001b[32m━━━━━━━━━━━━━━━━━━━━\u001b[0m\u001b[37m\u001b[0m \u001b[1m0s\u001b[0m 3ms/step - accuracy: 0.9542 - loss: 0.2665 - val_accuracy: 1.0000 - val_loss: 0.1707\n",
            "Epoch 17/50\n",
            "\u001b[1m36/36\u001b[0m \u001b[32m━━━━━━━━━━━━━━━━━━━━\u001b[0m\u001b[37m\u001b[0m \u001b[1m0s\u001b[0m 3ms/step - accuracy: 0.9413 - loss: 0.2913 - val_accuracy: 1.0000 - val_loss: 0.1636\n",
            "Epoch 18/50\n",
            "\u001b[1m36/36\u001b[0m \u001b[32m━━━━━━━━━━━━━━━━━━━━\u001b[0m\u001b[37m\u001b[0m \u001b[1m0s\u001b[0m 3ms/step - accuracy: 0.9386 - loss: 0.1930 - val_accuracy: 1.0000 - val_loss: 0.1601\n",
            "Epoch 19/50\n",
            "\u001b[1m36/36\u001b[0m \u001b[32m━━━━━━━━━━━━━━━━━━━━\u001b[0m\u001b[37m\u001b[0m \u001b[1m0s\u001b[0m 3ms/step - accuracy: 0.9606 - loss: 0.2294 - val_accuracy: 1.0000 - val_loss: 0.1610\n",
            "Epoch 20/50\n",
            "\u001b[1m36/36\u001b[0m \u001b[32m━━━━━━━━━━━━━━━━━━━━\u001b[0m\u001b[37m\u001b[0m \u001b[1m0s\u001b[0m 3ms/step - accuracy: 0.9633 - loss: 0.2033 - val_accuracy: 0.8904 - val_loss: 0.1610\n",
            "Epoch 21/50\n",
            "\u001b[1m36/36\u001b[0m \u001b[32m━━━━━━━━━━━━━━━━━━━━\u001b[0m\u001b[37m\u001b[0m \u001b[1m0s\u001b[0m 4ms/step - accuracy: 0.9346 - loss: 0.2090 - val_accuracy: 1.0000 - val_loss: 0.1547\n",
            "Epoch 22/50\n",
            "\u001b[1m36/36\u001b[0m \u001b[32m━━━━━━━━━━━━━━━━━━━━\u001b[0m\u001b[37m\u001b[0m \u001b[1m0s\u001b[0m 3ms/step - accuracy: 0.9339 - loss: 0.2271 - val_accuracy: 1.0000 - val_loss: 0.1549\n",
            "Epoch 23/50\n",
            "\u001b[1m36/36\u001b[0m \u001b[32m━━━━━━━━━━━━━━━━━━━━\u001b[0m\u001b[37m\u001b[0m \u001b[1m0s\u001b[0m 4ms/step - accuracy: 0.9252 - loss: 0.2678 - val_accuracy: 0.8904 - val_loss: 0.1566\n",
            "Epoch 24/50\n",
            "\u001b[1m36/36\u001b[0m \u001b[32m━━━━━━━━━━━━━━━━━━━━\u001b[0m\u001b[37m\u001b[0m \u001b[1m0s\u001b[0m 3ms/step - accuracy: 0.9153 - loss: 0.2228 - val_accuracy: 1.0000 - val_loss: 0.1533\n",
            "Epoch 25/50\n",
            "\u001b[1m36/36\u001b[0m \u001b[32m━━━━━━━━━━━━━━━━━━━━\u001b[0m\u001b[37m\u001b[0m \u001b[1m0s\u001b[0m 3ms/step - accuracy: 0.9735 - loss: 0.1931 - val_accuracy: 0.8904 - val_loss: 0.1547\n",
            "Epoch 26/50\n",
            "\u001b[1m36/36\u001b[0m \u001b[32m━━━━━━━━━━━━━━━━━━━━\u001b[0m\u001b[37m\u001b[0m \u001b[1m0s\u001b[0m 4ms/step - accuracy: 0.9322 - loss: 0.1937 - val_accuracy: 0.8904 - val_loss: 0.1516\n",
            "Epoch 27/50\n",
            "\u001b[1m36/36\u001b[0m \u001b[32m━━━━━━━━━━━━━━━━━━━━\u001b[0m\u001b[37m\u001b[0m \u001b[1m0s\u001b[0m 3ms/step - accuracy: 0.9358 - loss: 0.1736 - val_accuracy: 0.8904 - val_loss: 0.1541\n",
            "Epoch 28/50\n",
            "\u001b[1m36/36\u001b[0m \u001b[32m━━━━━━━━━━━━━━━━━━━━\u001b[0m\u001b[37m\u001b[0m \u001b[1m0s\u001b[0m 3ms/step - accuracy: 0.9322 - loss: 0.1885 - val_accuracy: 0.8904 - val_loss: 0.1533\n",
            "Epoch 29/50\n",
            "\u001b[1m36/36\u001b[0m \u001b[32m━━━━━━━━━━━━━━━━━━━━\u001b[0m\u001b[37m\u001b[0m \u001b[1m0s\u001b[0m 3ms/step - accuracy: 0.9302 - loss: 0.2264 - val_accuracy: 0.8904 - val_loss: 0.1504\n",
            "Epoch 30/50\n",
            "\u001b[1m36/36\u001b[0m \u001b[32m━━━━━━━━━━━━━━━━━━━━\u001b[0m\u001b[37m\u001b[0m \u001b[1m0s\u001b[0m 3ms/step - accuracy: 0.9057 - loss: 0.2188 - val_accuracy: 0.8904 - val_loss: 0.1547\n",
            "Epoch 31/50\n",
            "\u001b[1m36/36\u001b[0m \u001b[32m━━━━━━━━━━━━━━━━━━━━\u001b[0m\u001b[37m\u001b[0m \u001b[1m0s\u001b[0m 3ms/step - accuracy: 0.9177 - loss: 0.1810 - val_accuracy: 0.8904 - val_loss: 0.1492\n",
            "Epoch 32/50\n",
            "\u001b[1m36/36\u001b[0m \u001b[32m━━━━━━━━━━━━━━━━━━━━\u001b[0m\u001b[37m\u001b[0m \u001b[1m0s\u001b[0m 3ms/step - accuracy: 0.9088 - loss: 0.2232 - val_accuracy: 0.8904 - val_loss: 0.1528\n",
            "Epoch 33/50\n",
            "\u001b[1m36/36\u001b[0m \u001b[32m━━━━━━━━━━━━━━━━━━━━\u001b[0m\u001b[37m\u001b[0m \u001b[1m0s\u001b[0m 4ms/step - accuracy: 0.9195 - loss: 0.1989 - val_accuracy: 0.8904 - val_loss: 0.1517\n",
            "Epoch 34/50\n",
            "\u001b[1m36/36\u001b[0m \u001b[32m━━━━━━━━━━━━━━━━━━━━\u001b[0m\u001b[37m\u001b[0m \u001b[1m0s\u001b[0m 3ms/step - accuracy: 0.9308 - loss: 0.2027 - val_accuracy: 0.8904 - val_loss: 0.1449\n",
            "Epoch 35/50\n",
            "\u001b[1m36/36\u001b[0m \u001b[32m━━━━━━━━━━━━━━━━━━━━\u001b[0m\u001b[37m\u001b[0m \u001b[1m0s\u001b[0m 3ms/step - accuracy: 0.9222 - loss: 0.2265 - val_accuracy: 0.8904 - val_loss: 0.1450\n",
            "Epoch 36/50\n",
            "\u001b[1m36/36\u001b[0m \u001b[32m━━━━━━━━━━━━━━━━━━━━\u001b[0m\u001b[37m\u001b[0m \u001b[1m0s\u001b[0m 4ms/step - accuracy: 0.9560 - loss: 0.1570 - val_accuracy: 0.8904 - val_loss: 0.1458\n",
            "Epoch 37/50\n",
            "\u001b[1m36/36\u001b[0m \u001b[32m━━━━━━━━━━━━━━━━━━━━\u001b[0m\u001b[37m\u001b[0m \u001b[1m0s\u001b[0m 4ms/step - accuracy: 0.9212 - loss: 0.2034 - val_accuracy: 0.8904 - val_loss: 0.1452\n",
            "Epoch 38/50\n",
            "\u001b[1m36/36\u001b[0m \u001b[32m━━━━━━━━━━━━━━━━━━━━\u001b[0m\u001b[37m\u001b[0m \u001b[1m0s\u001b[0m 3ms/step - accuracy: 0.9523 - loss: 0.1545 - val_accuracy: 0.8904 - val_loss: 0.1452\n",
            "Epoch 39/50\n",
            "\u001b[1m36/36\u001b[0m \u001b[32m━━━━━━━━━━━━━━━━━━━━\u001b[0m\u001b[37m\u001b[0m \u001b[1m0s\u001b[0m 3ms/step - accuracy: 0.9256 - loss: 0.2400 - val_accuracy: 0.8904 - val_loss: 0.1426\n",
            "Epoch 40/50\n",
            "\u001b[1m36/36\u001b[0m \u001b[32m━━━━━━━━━━━━━━━━━━━━\u001b[0m\u001b[37m\u001b[0m \u001b[1m0s\u001b[0m 3ms/step - accuracy: 0.9095 - loss: 0.1991 - val_accuracy: 0.8904 - val_loss: 0.1460\n",
            "Epoch 41/50\n",
            "\u001b[1m36/36\u001b[0m \u001b[32m━━━━━━━━━━━━━━━━━━━━\u001b[0m\u001b[37m\u001b[0m \u001b[1m0s\u001b[0m 3ms/step - accuracy: 0.9178 - loss: 0.2029 - val_accuracy: 0.8904 - val_loss: 0.1444\n",
            "Epoch 42/50\n",
            "\u001b[1m36/36\u001b[0m \u001b[32m━━━━━━━━━━━━━━━━━━━━\u001b[0m\u001b[37m\u001b[0m \u001b[1m0s\u001b[0m 3ms/step - accuracy: 0.9402 - loss: 0.1731 - val_accuracy: 0.8904 - val_loss: 0.1448\n",
            "Epoch 43/50\n",
            "\u001b[1m36/36\u001b[0m \u001b[32m━━━━━━━━━━━━━━━━━━━━\u001b[0m\u001b[37m\u001b[0m \u001b[1m0s\u001b[0m 3ms/step - accuracy: 0.9377 - loss: 0.1428 - val_accuracy: 0.8904 - val_loss: 0.1408\n",
            "Epoch 44/50\n",
            "\u001b[1m36/36\u001b[0m \u001b[32m━━━━━━━━━━━━━━━━━━━━\u001b[0m\u001b[37m\u001b[0m \u001b[1m0s\u001b[0m 3ms/step - accuracy: 0.9261 - loss: 0.1831 - val_accuracy: 0.8904 - val_loss: 0.1443\n",
            "Epoch 45/50\n",
            "\u001b[1m36/36\u001b[0m \u001b[32m━━━━━━━━━━━━━━━━━━━━\u001b[0m\u001b[37m\u001b[0m \u001b[1m0s\u001b[0m 4ms/step - accuracy: 0.9316 - loss: 0.1599 - val_accuracy: 0.8904 - val_loss: 0.1376\n",
            "Epoch 46/50\n",
            "\u001b[1m36/36\u001b[0m \u001b[32m━━━━━━━━━━━━━━━━━━━━\u001b[0m\u001b[37m\u001b[0m \u001b[1m0s\u001b[0m 3ms/step - accuracy: 0.9601 - loss: 0.1160 - val_accuracy: 0.8904 - val_loss: 0.1404\n",
            "Epoch 47/50\n",
            "\u001b[1m36/36\u001b[0m \u001b[32m━━━━━━━━━━━━━━━━━━━━\u001b[0m\u001b[37m\u001b[0m \u001b[1m0s\u001b[0m 3ms/step - accuracy: 0.9560 - loss: 0.1550 - val_accuracy: 1.0000 - val_loss: 0.1330\n",
            "Epoch 48/50\n",
            "\u001b[1m36/36\u001b[0m \u001b[32m━━━━━━━━━━━━━━━━━━━━\u001b[0m\u001b[37m\u001b[0m \u001b[1m0s\u001b[0m 3ms/step - accuracy: 0.9786 - loss: 0.1714 - val_accuracy: 1.0000 - val_loss: 0.1337\n",
            "Epoch 49/50\n",
            "\u001b[1m36/36\u001b[0m \u001b[32m━━━━━━━━━━━━━━━━━━━━\u001b[0m\u001b[37m\u001b[0m \u001b[1m0s\u001b[0m 5ms/step - accuracy: 0.9643 - loss: 0.1422 - val_accuracy: 0.8904 - val_loss: 0.1379\n",
            "Epoch 50/50\n",
            "\u001b[1m36/36\u001b[0m \u001b[32m━━━━━━━━━━━━━━━━━━━━\u001b[0m\u001b[37m\u001b[0m \u001b[1m0s\u001b[0m 3ms/step - accuracy: 0.9249 - loss: 0.1817 - val_accuracy: 0.8904 - val_loss: 0.1431\n"
          ]
        }
      ]
    },
    {
      "cell_type": "code",
      "source": [
        "# Evaluate the model on the test data\n",
        "test_loss, test_accuracy = model.evaluate(X_test_scaled, y_test)\n",
        "print(f'Test Accuracy: {test_accuracy:.2f}')\n"
      ],
      "metadata": {
        "colab": {
          "base_uri": "https://localhost:8080/"
        },
        "id": "J5-F2d49lwQX",
        "outputId": "3464d5e7-8de6-446b-95ee-b5df545965a8"
      },
      "execution_count": 13,
      "outputs": [
        {
          "output_type": "stream",
          "name": "stdout",
          "text": [
            "\u001b[1m3/3\u001b[0m \u001b[32m━━━━━━━━━━━━━━━━━━━━\u001b[0m\u001b[37m\u001b[0m \u001b[1m0s\u001b[0m 5ms/step - accuracy: 0.9507 - loss: 0.0839 \n",
            "Test Accuracy: 0.96\n"
          ]
        }
      ]
    },
    {
      "cell_type": "code",
      "source": [
        "# Prediction Function with Feature Names\n",
        "def predict_chronotype(new_data):\n",
        "    # Konversi input ke DataFrame dengan nama kolom sesuai data asli\n",
        "    feature_columns = ['Bedtime_Hour', 'Wakeup_Hour']\n",
        "    new_data_df = pd.DataFrame([new_data], columns=feature_columns)\n",
        "\n",
        "    # Normalize the new data\n",
        "    new_data_scaled = scaler.transform(new_data_df)\n",
        "\n",
        "    # Predict using the model\n",
        "    prediction = model.predict(new_data_scaled)\n",
        "\n",
        "    # Decode the predicted label\n",
        "    predicted_class = label_encoder.inverse_transform([prediction.argmax()])\n",
        "    return predicted_class[0]\n",
        "\n",
        "# Example Prediction\n",
        "example_input = [22, 6]  # Bedtime hour, Wakeup hour, etc.\n",
        "print(\"Predicted Chronotype:\", predict_chronotype(example_input))\n"
      ],
      "metadata": {
        "colab": {
          "base_uri": "https://localhost:8080/"
        },
        "id": "mVw3jNoLl15-",
        "outputId": "88070bea-8c8d-4727-ba2c-04d45b3913b7"
      },
      "execution_count": 14,
      "outputs": [
        {
          "output_type": "stream",
          "name": "stdout",
          "text": [
            "\u001b[1m1/1\u001b[0m \u001b[32m━━━━━━━━━━━━━━━━━━━━\u001b[0m\u001b[37m\u001b[0m \u001b[1m0s\u001b[0m 83ms/step\n",
            "Predicted Chronotype: Bear\n"
          ]
        }
      ]
    },
    {
      "cell_type": "code",
      "source": [
        "model.save(\"turuku_chronotype_model.h5\")  # Saves the model in HDF5 format"
      ],
      "metadata": {
        "colab": {
          "base_uri": "https://localhost:8080/"
        },
        "id": "zfuFImfrhZSv",
        "outputId": "1acd7364-cc36-41e6-f5d1-71a303299629"
      },
      "execution_count": 15,
      "outputs": [
        {
          "output_type": "stream",
          "name": "stderr",
          "text": [
            "WARNING:absl:You are saving your model as an HDF5 file via `model.save()` or `keras.saving.save_model(model)`. This file format is considered legacy. We recommend using instead the native Keras format, e.g. `model.save('my_model.keras')` or `keras.saving.save_model(model, 'my_model.keras')`. \n"
          ]
        }
      ]
    }
  ]
}